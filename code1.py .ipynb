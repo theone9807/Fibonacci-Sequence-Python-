{
 "cells": [
  {
   "cell_type": "code",
   "execution_count": 3,
   "metadata": {},
   "outputs": [
    {
     "name": "stdout",
     "output_type": "stream",
     "text": [
      "Enter your number: 4\n",
      "1\n",
      "1\n",
      "2\n",
      "3\n"
     ]
    }
   ],
   "source": [
    "\"\"\"Fibonacci Sequence - Enter a number and have the program generate the \n",
    "Fibonacci sequence to that number or to the Nth number.\"\"\"\n",
    "def fabo(n):\n",
    "    if n == 0 or n == 1:\n",
    "        return 1\n",
    "    return (fabo(n-1) + fabo(n-2))\n",
    "\n",
    "i = int(input('Enter your number: '))\n",
    "for i in range(i):\n",
    "    print(fabo(i))"
   ]
  },
  {
   "cell_type": "code",
   "execution_count": null,
   "metadata": {},
   "outputs": [],
   "source": []
  }
 ],
 "metadata": {
  "kernelspec": {
   "display_name": "Python 3",
   "language": "python",
   "name": "python3"
  },
  "language_info": {
   "codemirror_mode": {
    "name": "ipython",
    "version": 3
   },
   "file_extension": ".py",
   "mimetype": "text/x-python",
   "name": "python",
   "nbconvert_exporter": "python",
   "pygments_lexer": "ipython3",
   "version": "3.6.6"
  }
 },
 "nbformat": 4,
 "nbformat_minor": 2
}
